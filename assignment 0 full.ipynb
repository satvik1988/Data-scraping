{
 "cells": [
  {
   "cell_type": "code",
   "execution_count": 1,
   "metadata": {},
   "outputs": [],
   "source": [
    "from bs4 import BeautifulSoup\n",
    "import requests\n",
    "import pandas as pd\n",
    "import numpy as np\n",
    "import matplotlib.pyplot as plt  \n",
    "\n",
    "wiki_url=\"https://en.wikipedia.org/wiki/World_Happiness_Report#2019_report\"\n",
    "response=requests.get(wiki_url)\n",
    "soup=BeautifulSoup(response.text,'html.parser')\n",
    "table=soup.find('table',{'class':'wikitable sortable'}).tbody\n",
    "\n",
    "rows = table.find_all('tr')\n",
    "columns =[c.text.replace('\\n','') for c in rows[0].find_all('th')]\n",
    "df=pd.DataFrame(columns=columns)\n",
    "for i in range(1, len(rows)):\n",
    "    tds=rows[i].find_all('td')\n",
    "    values = [td.text.replace('\\xa0','').replace('\\n','') for td in tds]\n",
    "    df=df.append(pd.Series(values, index=columns), ignore_index=True)\n",
    "values\n",
    "\n",
    "df=df.to_csv(r'C:\\Users\\satvi\\OneDrive\\Desktop\\ds\\assignment 1'+'\\\\Worldhappiness.csv',index=False,header=True)\n",
    "df"
   ]
  },
  {
   "cell_type": "code",
   "execution_count": 2,
   "metadata": {},
   "outputs": [
    {
     "data": {
      "text/html": [
       "<div>\n",
       "<style scoped>\n",
       "    .dataframe tbody tr th:only-of-type {\n",
       "        vertical-align: middle;\n",
       "    }\n",
       "\n",
       "    .dataframe tbody tr th {\n",
       "        vertical-align: top;\n",
       "    }\n",
       "\n",
       "    .dataframe thead th {\n",
       "        text-align: right;\n",
       "    }\n",
       "</style>\n",
       "<table border=\"1\" class=\"dataframe\">\n",
       "  <thead>\n",
       "    <tr style=\"text-align: right;\">\n",
       "      <th></th>\n",
       "      <th>Country or region</th>\n",
       "      <th>Score</th>\n",
       "      <th>GDP per capita</th>\n",
       "      <th>Social support</th>\n",
       "      <th>Healthy life expectancy</th>\n",
       "      <th>Freedom to make life choices</th>\n",
       "      <th>Generosity</th>\n",
       "      <th>Perceptions of corruption</th>\n",
       "    </tr>\n",
       "    <tr>\n",
       "      <th>Overall rank</th>\n",
       "      <th></th>\n",
       "      <th></th>\n",
       "      <th></th>\n",
       "      <th></th>\n",
       "      <th></th>\n",
       "      <th></th>\n",
       "      <th></th>\n",
       "      <th></th>\n",
       "    </tr>\n",
       "  </thead>\n",
       "  <tbody>\n",
       "    <tr>\n",
       "      <th>1</th>\n",
       "      <td>Finland</td>\n",
       "      <td>7.809</td>\n",
       "      <td>1.285</td>\n",
       "      <td>1.500</td>\n",
       "      <td>0.961</td>\n",
       "      <td>0.662</td>\n",
       "      <td>0.160</td>\n",
       "      <td>0.478</td>\n",
       "    </tr>\n",
       "    <tr>\n",
       "      <th>2</th>\n",
       "      <td>Denmark</td>\n",
       "      <td>7.646</td>\n",
       "      <td>1.327</td>\n",
       "      <td>1.503</td>\n",
       "      <td>0.979</td>\n",
       "      <td>0.665</td>\n",
       "      <td>0.243</td>\n",
       "      <td>0.495</td>\n",
       "    </tr>\n",
       "  </tbody>\n",
       "</table>\n",
       "</div>"
      ],
      "text/plain": [
       "             Country or region  Score  GDP per capita  Social support  \\\n",
       "Overall rank                                                            \n",
       "1                      Finland  7.809           1.285           1.500   \n",
       "2                      Denmark  7.646           1.327           1.503   \n",
       "\n",
       "              Healthy life expectancy  Freedom to make life choices  \\\n",
       "Overall rank                                                          \n",
       "1                               0.961                         0.662   \n",
       "2                               0.979                         0.665   \n",
       "\n",
       "              Generosity  Perceptions of corruption  \n",
       "Overall rank                                         \n",
       "1                  0.160                      0.478  \n",
       "2                  0.243                      0.495  "
      ]
     },
     "execution_count": 2,
     "metadata": {},
     "output_type": "execute_result"
    }
   ],
   "source": [
    "df=pd.read_csv(r'C:\\Users\\satvi\\OneDrive\\Desktop\\ds\\assignment 1'+'\\\\Worldhappiness.csv',index_col='Overall rank')\n",
    "df.sort_values(by='Score',ascending=True)\n",
    "df.head(2)"
   ]
  },
  {
   "cell_type": "code",
   "execution_count": 3,
   "metadata": {},
   "outputs": [
    {
     "data": {
      "text/plain": [
       "Index(['Country or region', 'Score', 'GDP per capita', 'Social support',\n",
       "       'Healthy life expectancy', 'Freedom to make life choices', 'Generosity',\n",
       "       'Perceptions of corruption'],\n",
       "      dtype='object')"
      ]
     },
     "execution_count": 3,
     "metadata": {},
     "output_type": "execute_result"
    }
   ],
   "source": [
    "df.columns"
   ]
  },
  {
   "cell_type": "code",
   "execution_count": 4,
   "metadata": {},
   "outputs": [
    {
     "data": {
      "text/plain": [
       "Index(['Country_or_region', 'Score', 'GDP_per_capita', 'Social_support',\n",
       "       'Healthy_life_expectancy', 'Freedom_to_make_life_choices', 'Generosity',\n",
       "       'Perceptions_of_corruption'],\n",
       "      dtype='object')"
      ]
     },
     "execution_count": 4,
     "metadata": {},
     "output_type": "execute_result"
    }
   ],
   "source": [
    "df.columns = df.columns.str.replace('Country or region','Country_or_region')\n",
    "df.columns = df.columns.str.replace(' ','_')\n",
    "df.columns = df.columns.str.replace('[(),]','')\n",
    "df.columns"
   ]
  },
  {
   "cell_type": "code",
   "execution_count": 5,
   "metadata": {},
   "outputs": [
    {
     "data": {
      "text/html": [
       "<div>\n",
       "<style scoped>\n",
       "    .dataframe tbody tr th:only-of-type {\n",
       "        vertical-align: middle;\n",
       "    }\n",
       "\n",
       "    .dataframe tbody tr th {\n",
       "        vertical-align: top;\n",
       "    }\n",
       "\n",
       "    .dataframe thead th {\n",
       "        text-align: right;\n",
       "    }\n",
       "</style>\n",
       "<table border=\"1\" class=\"dataframe\">\n",
       "  <thead>\n",
       "    <tr style=\"text-align: right;\">\n",
       "      <th></th>\n",
       "      <th>Country_or_region</th>\n",
       "      <th>Score</th>\n",
       "      <th>GDP_per_capita</th>\n",
       "      <th>Social_support</th>\n",
       "      <th>Healthy_life_expectancy</th>\n",
       "      <th>Freedom_to_make_life_choices</th>\n",
       "      <th>Generosity</th>\n",
       "      <th>Perceptions_of_corruption</th>\n",
       "    </tr>\n",
       "    <tr>\n",
       "      <th>Overall rank</th>\n",
       "      <th></th>\n",
       "      <th></th>\n",
       "      <th></th>\n",
       "      <th></th>\n",
       "      <th></th>\n",
       "      <th></th>\n",
       "      <th></th>\n",
       "      <th></th>\n",
       "    </tr>\n",
       "  </thead>\n",
       "  <tbody>\n",
       "    <tr>\n",
       "      <th>1</th>\n",
       "      <td>Finland</td>\n",
       "      <td>7.809</td>\n",
       "      <td>1.285</td>\n",
       "      <td>1.500</td>\n",
       "      <td>0.961</td>\n",
       "      <td>0.662</td>\n",
       "      <td>0.160</td>\n",
       "      <td>0.478</td>\n",
       "    </tr>\n",
       "    <tr>\n",
       "      <th>2</th>\n",
       "      <td>Denmark</td>\n",
       "      <td>7.646</td>\n",
       "      <td>1.327</td>\n",
       "      <td>1.503</td>\n",
       "      <td>0.979</td>\n",
       "      <td>0.665</td>\n",
       "      <td>0.243</td>\n",
       "      <td>0.495</td>\n",
       "    </tr>\n",
       "  </tbody>\n",
       "</table>\n",
       "</div>"
      ],
      "text/plain": [
       "             Country_or_region  Score  GDP_per_capita  Social_support  \\\n",
       "Overall rank                                                            \n",
       "1                      Finland  7.809           1.285           1.500   \n",
       "2                      Denmark  7.646           1.327           1.503   \n",
       "\n",
       "              Healthy_life_expectancy  Freedom_to_make_life_choices  \\\n",
       "Overall rank                                                          \n",
       "1                               0.961                         0.662   \n",
       "2                               0.979                         0.665   \n",
       "\n",
       "              Generosity  Perceptions_of_corruption  \n",
       "Overall rank                                         \n",
       "1                  0.160                      0.478  \n",
       "2                  0.243                      0.495  "
      ]
     },
     "execution_count": 5,
     "metadata": {},
     "output_type": "execute_result"
    }
   ],
   "source": [
    "df.head(2)"
   ]
  },
  {
   "cell_type": "markdown",
   "metadata": {},
   "source": [
    "#Distribution graph\n"
   ]
  },
  {
   "cell_type": "code",
   "execution_count": 6,
   "metadata": {},
   "outputs": [],
   "source": [
    "column1=df['Score']\n",
    "column2=df['GDP_per_capita']"
   ]
  },
  {
   "cell_type": "code",
   "execution_count": 8,
   "metadata": {},
   "outputs": [
    {
     "data": {
      "image/png": "[encoded data removed]",
      "text/plain": [
       "<Figure size 432x288 with 1 Axes>"
      ]
     },
     "metadata": {
      "needs_background": "light"
     },
     "output_type": "display_data"
    }
   ],
   "source": [
    "x = [column1, column2]\n",
    "plt.hist(x)\n",
    "plt.show()"
   ]
  },
  {
   "cell_type": "code",
   "execution_count": 9,
   "metadata": {
    "scrolled": false
   },
   "outputs": [],
   "source": [
    "mean=df.mean()"
   ]
  },
  {
   "cell_type": "code",
   "execution_count": 10,
   "metadata": {},
   "outputs": [],
   "source": [
    "median=df['Score'].median()"
   ]
  },
  {
   "cell_type": "code",
   "execution_count": 11,
   "metadata": {},
   "outputs": [
    {
     "data": {
      "text/plain": [
       "76"
      ]
     },
     "execution_count": 11,
     "metadata": {},
     "output_type": "execute_result"
    }
   ],
   "source": [
    "def above_median(x):\n",
    "    return x > median\n",
    "df['above']=df['Score'].apply(above_median)\n",
    "df['above'].sum()"
   ]
  },
  {
   "cell_type": "markdown",
   "metadata": {},
   "source": [
    "# correlation"
   ]
  },
  {
   "cell_type": "code",
   "execution_count": 12,
   "metadata": {},
   "outputs": [
    {
     "name": "stdout",
     "output_type": "stream",
     "text": [
      "[[1.         0.77528394]\n",
      " [0.77528394 1.        ]]\n"
     ]
    },
    {
     "data": {
      "image/png": "[encoded data removed]",
      "text/plain": [
       "<Figure size 432x288 with 1 Axes>"
      ]
     },
     "metadata": {
      "needs_background": "light"
     },
     "output_type": "display_data"
    }
   ],
   "source": [
    "column1=df['Score']\n",
    "column2=df['GDP_per_capita']\n",
    "Score_Vs_Gdp=np.corrcoef(column1,column2)\n",
    "print(Score_Vs_Gdp)\n",
    "\n",
    "plt.scatter(column1, column2) \n",
    "plt.title('A plot to show the correlation between memes and dankness')\n",
    "plt.xlabel('Score')\n",
    "plt.ylabel('Gdp')\n",
    "plt.plot(np.unique(column1), np.poly1d(np.polyfit(column1, column2, 1))(np.unique(column1)), color='yellow')\n",
    "plt.show()"
   ]
  },
  {
   "cell_type": "code",
   "execution_count": 13,
   "metadata": {},
   "outputs": [
    {
     "data": {
      "image/png": "[encoded data removed]",
      "text/plain": [
       "<Figure size 432x288 with 1 Axes>"
      ]
     },
     "metadata": {
      "needs_background": "light"
     },
     "output_type": "display_data"
    }
   ],
   "source": [
    "x=plt.xcorr(column1,column2)"
   ]
  },
  {
   "cell_type": "code",
   "execution_count": 14,
   "metadata": {},
   "outputs": [],
   "source": [
    "# # 2nd url\n",
    "url2='https://simple.wikipedia.org/wiki/List_of_countries_by_continents'\n",
    "response2= requests.get(url2)\n",
    "soup2=BeautifulSoup(response2.text,'html.parser')"
   ]
  },
  {
   "cell_type": "code",
   "execution_count": 15,
   "metadata": {},
   "outputs": [
    {
     "name": "stdout",
     "output_type": "stream",
     "text": [
      "['Africa', 'Antarctica', 'Asia', 'Europe', 'North America', 'South America', 'Australia/Oceania']\n"
     ]
    }
   ],
   "source": [
    "continent_tags= soup2.findAll('span',{'class','toctext'})\n",
    "continent_list=[]\n",
    "for i in range (0,len(continent_tags)-2):\n",
    "    d=continent_tags[i].text\n",
    "    continent_list.append(d)\n",
    "print(continent_list)"
   ]
  },
  {
   "cell_type": "code",
   "execution_count": 16,
   "metadata": {},
   "outputs": [],
   "source": [
    "ol_tags= soup2.findAll('ol')\n",
    "country_list=[]\n",
    "for j in range(0,len(ol_tags)-2):\n",
    "    li_tags=ol_tags[j].findAll('li')\n",
    "    country=[]\n",
    "    for li_tag in li_tags:\n",
    "        link_tag=li_tag.a\n",
    "        country_list.append(link_tag.text)\n",
    "#print(country_list)"
   ]
  },
  {
   "cell_type": "code",
   "execution_count": 18,
   "metadata": {
    "collapsed": true
   },
   "outputs": [
    {
     "name": "stdout",
     "output_type": "stream",
     "text": [
      "Africa---Algeria\n",
      "Africa---Angola\n",
      "Africa---Benin\n",
      "Africa---Botswana\n",
      "Africa---Burkina Faso\n",
      "Africa---Burundi\n",
      "Africa---Cameroon\n",
      "Africa---Cape Verde\n",
      "Africa---Central African Republic\n",
      "Africa---Chad\n",
      "Africa---Comoros\n",
      "Africa---Republic of the Congo\n",
      "Africa---Democratic Republic of the Congo\n",
      "Africa---Côte d'Ivoire\n",
      "Africa---Djibouti\n",
      "Africa---Egypt\n",
      "Africa---Equatorial Guinea\n",
      "Africa---Eritrea\n",
      "Africa---Ethiopia\n",
      "Africa---Gabon\n",
      "Africa---The Gambia\n",
      "Africa---Ghana\n",
      "Africa---Guinea\n",
      "Africa---Guinea-Bissau\n",
      "Africa---Kenya\n",
      "Africa---Lesotho\n",
      "Africa---Liberia\n",
      "Africa---Libya\n",
      "Africa---Madagascar\n",
      "Africa---Malawi\n",
      "Africa---Mali\n",
      "Africa---Mauritania\n",
      "Africa---Mauritius\n",
      "Africa---Morocco\n",
      "Africa---Mozambique\n",
      "Africa---Namibia\n",
      "Africa---Niger\n",
      "Africa---Nigeria\n",
      "Africa---Rwanda\n",
      "Africa---São Tomé and Príncipe\n",
      "Africa---Senegal\n",
      "Africa---Seychelles\n",
      "Africa---Sierra Leone\n",
      "Africa---Somalia\n",
      "Africa---South Africa\n",
      "Africa---South Sudan\n",
      "Africa---Sudan\n",
      "Africa---Swaziland\n",
      "Africa---Tanzania\n",
      "Africa---Togo\n",
      "Africa---Tunisia\n",
      "Africa---Uganda\n",
      "Africa---Western Sahara\n",
      "Africa---Zambia\n",
      "Africa---Zimbabwe\n",
      "Asia---Afghanistan\n",
      "Asia---Armenia\n",
      "Asia---Azerbaijan\n",
      "Asia---Bahrain\n",
      "Asia---Bangladesh\n",
      "Asia---Bhutan\n",
      "Asia---Brunei\n",
      "Asia---Cambodia\n",
      "Asia---China\n",
      "Asia---East Timor\n",
      "Asia---Georgia\n",
      "Asia---India\n",
      "Asia---Indonesia\n",
      "Asia---Iran\n",
      "Asia---Iraq\n",
      "Asia---Israel\n",
      "Asia---Japan\n",
      "Asia---Jordan\n",
      "Asia---Kazakhstan\n",
      "Asia---Kuwait\n",
      "Asia---Kyrgyzstan\n",
      "Asia---Laos\n",
      "Asia---Lebanon\n",
      "Asia---Malaysia\n",
      "Asia---Maldives\n",
      "Asia---Mongolia\n",
      "Asia---Myanmar\n",
      "Asia---Nepal\n",
      "Asia---North Korea\n",
      "Asia---Oman\n",
      "Asia---Pakistan\n",
      "Asia---Philippines\n",
      "Asia---Qatar\n",
      "Asia---Russia\n",
      "Asia---Saudi Arabia\n",
      "Asia---Singapore\n",
      "Asia---South Korea\n",
      "Asia---Sri Lanka\n",
      "Asia---Syria\n",
      "Asia---Tajikistan\n",
      "Asia---Thailand\n",
      "Asia---Turkey\n",
      "Asia---Turkmenistan\n",
      "Asia---Taiwan\n",
      "Asia---United Arab Emirates\n",
      "Asia---Uzbekistan\n",
      "Asia---Vietnam\n",
      "Asia---Yemen\n",
      "Europe---Albania\n",
      "Europe---Andorra\n",
      "Europe---Austria\n",
      "Europe---Belarus\n",
      "Europe---Belgium\n",
      "Europe---Bosnia and Herzegovina\n",
      "Europe---Bulgaria\n",
      "Europe---Croatia\n",
      "Europe---Cyprus\n",
      "Europe---Czech Republic\n",
      "Europe---Denmark\n",
      "Europe---Estonia\n",
      "Europe---Finland\n",
      "Europe---France\n",
      "Europe---Georgia\n",
      "Europe---Germany\n",
      "Europe---Greece\n",
      "Europe---Hungary\n",
      "Europe---Iceland\n",
      "Europe---Republic of Ireland\n",
      "Europe---Italy\n",
      "Europe---Kazakhstan\n",
      "Europe---Kosovo\n",
      "Europe---Latvia\n",
      "Europe---Liechtenstein\n",
      "Europe---Lithuania\n",
      "Europe---Luxembourg\n",
      "Europe---North Macedonia\n",
      "Europe---Malta\n",
      "Europe---Moldova\n",
      "Europe---Monaco\n",
      "Europe---Montenegro\n",
      "Europe---Netherlands\n",
      "Europe---Norway\n",
      "Europe---Poland\n",
      "Europe---Portugal\n",
      "Europe---Romania\n",
      "Europe---Russia\n",
      "Europe---San Marino\n",
      "Europe---Serbia\n",
      "Europe---Slovakia\n",
      "Europe---Slovenia\n",
      "Europe---Spain\n",
      "Europe---Sweden\n",
      "Europe---Switzerland\n",
      "Europe---Turkey\n",
      "Europe---Ukraine\n",
      "Europe---United Kingdom\n",
      "Europe---Vatican City\n",
      "North_America---Antigua and Barbuda\n",
      "North_America---Anguilla\n",
      "North_America---Aruba\n",
      "North_America---The Bahamas\n",
      "North_America---Barbados\n",
      "North_America---Belize\n",
      "North_America---Bermuda\n",
      "North_America---Bonaire\n",
      "North_America---British Virgin Islands\n",
      "North_America---Canada\n",
      "North_America---Cayman Islands\n",
      "North_America---Clipperton Island\n",
      "North_America---Costa Rica\n",
      "North_America---Cuba\n",
      "North_America---Curaçao\n",
      "North_America---Dominica\n",
      "North_America---Dominican Republic\n",
      "North_America---El Salvador\n",
      "North_America---Greenland\n",
      "North_America---Grenada\n",
      "North_America---Guadeloupe\n",
      "North_America---Guatemala\n",
      "North_America---Haiti\n",
      "North_America---Honduras\n",
      "North_America---Jamaica\n",
      "North_America---Martinique\n",
      "North_America---Mexico\n",
      "North_America---Montserrat\n",
      "North_America---Navassa Island\n",
      "North_America---Nicaragua\n",
      "North_America---Panama\n",
      "North_America---Puerto Rico\n",
      "North_America---Saba\n",
      "North_America---Saint Barthelemy\n",
      "North_America---Saint Kitts and Nevis\n",
      "North_America---Saint Lucia\n",
      "North_America---Saint Martin\n",
      "North_America---Saint Pierre and Miquelon\n",
      "North_America---Saint Vincent and the Grenadines\n",
      "North_America---Sint Eustatius\n",
      "North_America---Sint Maarten\n",
      "North_America---Trinidad and Tobago\n",
      "North_America---Turks and Caicos\n",
      "North_America---United States of America\n",
      "North_America---US Virgin Islands\n",
      "South_America---Argentina\n",
      "South_America---Bolivia\n",
      "South_America---Brazil\n",
      "South_America---Chile\n",
      "South_America---Colombia\n",
      "South_America---Ecuador\n",
      "South_America---Falkland Islands\n",
      "South_America---French Guiana\n",
      "South_America---Guyana\n",
      "South_America---Paraguay\n",
      "South_America---Peru\n",
      "South_America---South Georgia and the South Sandwich Islands\n",
      "South_America---Suriname\n",
      "South_America---Uruguay\n",
      "South_America---Venezuela\n",
      "Australia---Australia\n",
      "Australia---Federated States of Micronesia\n",
      "Australia---Fiji\n",
      "Australia---Kiribati\n",
      "Australia---Marshall Islands\n",
      "Australia---Nauru\n",
      "Australia---New Zealand\n",
      "Australia---Palau\n",
      "Australia---Papua New Guinea\n",
      "Australia---Samoa\n",
      "Australia---Solomon Islands\n",
      "Australia---Tonga\n",
      "Australia---Tuvalu\n",
      "Australia---Vanuatu\n"
     ]
    }
   ],
   "source": [
    "continent_countries_dict={}\n",
    "Africa=country_list[country_list.index('Algeria'):country_list.index('Zimbabwe')+1]\n",
    "Asia=country_list[country_list.index('Afghanistan'):country_list.index('Yemen')+1]\n",
    "Europe=country_list[country_list.index('Albania'):country_list.index('Vatican City')+1]\n",
    "North_America=country_list[country_list.index('Antigua and Barbuda'):country_list.index('US Virgin Islands')+1]\n",
    "South_America=country_list[country_list.index('Argentina'):country_list.index('Venezuela')+1]\n",
    "Australia=country_list[country_list.index('Australia'):country_list.index('Vanuatu')+1]\n",
    "\n",
    "continent_countries_dict['Africa']=Africa\n",
    "continent_countries_dict['Asia']=Asia\n",
    "continent_countries_dict['Europe']=Europe\n",
    "continent_countries_dict['North_America']=North_America\n",
    "continent_countries_dict['South_America']=South_America\n",
    "continent_countries_dict['Australia']=Australia\n",
    "\n",
    "headings=['Continent','Countries']\n",
    "\n",
    "cf=pd.DataFrame(columns=headings)\n",
    "\n",
    "x=0\n",
    "for values in continent_countries_dict.values():\n",
    "    for value in values:\n",
    "        print('{}---{}'.format(list(continent_countries_dict.keys())[x],value))\n",
    "        df=df.append(pd.Series([list(continent_countries_dict.keys())[x],value],index=headings),ignore_index=True)\n",
    "    x=x+1\n",
    "    \n",
    "cf=cf.to_csv(r'C:\\Users\\satvi\\OneDrive\\Desktop\\ds\\assignment 1'+'\\\\continent_countries.csv',index=False)"
   ]
  },
  {
   "cell_type": "code",
   "execution_count": null,
   "metadata": {},
   "outputs": [],
   "source": []
  }
 ],
 "metadata": {
  "kernelspec": {
   "display_name": "Python 3",
   "language": "python",
   "name": "python3"
  },
  "language_info": {
   "codemirror_mode": {
    "name": "ipython",
    "version": 3
   },
   "file_extension": ".py",
   "mimetype": "text/x-python",
   "name": "python",
   "nbconvert_exporter": "python",
   "pygments_lexer": "ipython3",
   "version": "3.7.0"
  }
 },
 "nbformat": 4,
 "nbformat_minor": 4
}
